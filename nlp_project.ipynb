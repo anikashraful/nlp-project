{
  "nbformat": 4,
  "nbformat_minor": 0,
  "metadata": {
    "colab": {
      "provenance": []
    },
    "kernelspec": {
      "name": "python3",
      "display_name": "Python 3"
    },
    "language_info": {
      "name": "python"
    }
  },
  "cells": [
    {
      "cell_type": "markdown",
      "source": [
        "**Project:** Sentiment Analysis on Rotten Tomatoes Movie Reviews"
      ],
      "metadata": {
        "id": "BccZ5tk9lbQK"
      }
    },
    {
      "cell_type": "markdown",
      "source": [
        "1.Install & Import"
      ],
      "metadata": {
        "id": "RxHxTjXWlmK-"
      }
    },
    {
      "cell_type": "code",
      "source": [
        "!pip install -q nltk scikit-learn pandas matplotlib joblib\n",
        "\n",
        "import os, re, string\n",
        "import pandas as pd\n",
        "import numpy as np\n",
        "import matplotlib.pyplot as plt\n",
        "from sklearn.model_selection import train_test_split, GridSearchCV\n",
        "from sklearn.feature_extraction.text import TfidfVectorizer\n",
        "from sklearn.linear_model import LogisticRegression\n",
        "from sklearn.naive_bayes import MultinomialNB\n",
        "from sklearn.svm import LinearSVC\n",
        "from sklearn.metrics import classification_report, confusion_matrix, accuracy_score\n",
        "import joblib\n",
        "\n",
        "# NLTK setup\n",
        "import nltk\n",
        "nltk.download('punkt')\n",
        "nltk.download('stopwords')\n",
        "nltk.download('wordnet')\n",
        "nltk.download('omw-1.4')\n",
        "# nltk.download('punkt_tab') # Removed this line\n",
        "from nltk.corpus import stopwords\n",
        "from nltk.tokenize import word_tokenize\n",
        "from nltk.stem import WordNetLemmatizer\n",
        "\n",
        "STOPWORDS = set(stopwords.words('english'))\n",
        "lemmatizer = WordNetLemmatizer()\n",
        "RANDOM_STATE = 42"
      ],
      "metadata": {
        "colab": {
          "base_uri": "https://localhost:8080/"
        },
        "id": "A1v4-60aluKG",
        "outputId": "65811955-a40f-4a3a-f5d8-be36f0bb5299"
      },
      "execution_count": 10,
      "outputs": [
        {
          "output_type": "stream",
          "name": "stderr",
          "text": [
            "[nltk_data] Downloading package punkt to /root/nltk_data...\n",
            "[nltk_data]   Package punkt is already up-to-date!\n",
            "[nltk_data] Downloading package stopwords to /root/nltk_data...\n",
            "[nltk_data]   Package stopwords is already up-to-date!\n",
            "[nltk_data] Downloading package wordnet to /root/nltk_data...\n",
            "[nltk_data]   Package wordnet is already up-to-date!\n",
            "[nltk_data] Downloading package omw-1.4 to /root/nltk_data...\n",
            "[nltk_data]   Package omw-1.4 is already up-to-date!\n"
          ]
        }
      ]
    },
    {
      "cell_type": "markdown",
      "source": [
        "2.Mount Drive & Load Dataset"
      ],
      "metadata": {
        "id": "D2hLA6IUmqkj"
      }
    },
    {
      "cell_type": "code",
      "source": [
        "from google.colab import drive\n",
        "drive.mount('/content/drive')\n",
        "\n",
        "# Load dataset\n",
        "df = pd.read_csv('/content/drive/MyDrive/data/rotten_tomatoes_reviews.csv')\n",
        "print(\"Shape:\", df.shape)\n",
        "print(df.head())\n"
      ],
      "metadata": {
        "colab": {
          "base_uri": "https://localhost:8080/"
        },
        "id": "xryW4SXQmrHU",
        "outputId": "e09fcbec-bb55-42fc-fe41-90e5bd4621fc"
      },
      "execution_count": 11,
      "outputs": [
        {
          "output_type": "stream",
          "name": "stdout",
          "text": [
            "Drive already mounted at /content/drive; to attempt to forcibly remount, call drive.mount(\"/content/drive\", force_remount=True).\n",
            "Shape: (1444963, 11)\n",
            "                                  id  reviewId creationDate       criticName  \\\n",
            "0                            beavers   1145982   2003-05-23  Ivan M. Lincoln   \n",
            "1                         blood_mask   1636744   2007-06-02    The Foywonder   \n",
            "2  city_hunter_shinjuku_private_eyes   2590987   2019-05-28     Reuben Baron   \n",
            "3  city_hunter_shinjuku_private_eyes   2558908   2019-02-14      Matt Schley   \n",
            "4                 dangerous_men_2015   2504681   2018-08-29        Pat Padua   \n",
            "\n",
            "   isTopCritic originalScore reviewState                 publicatioName  \\\n",
            "0        False         3.5/4       fresh  Deseret News (Salt Lake City)   \n",
            "1        False           1/5      rotten                  Dread Central   \n",
            "2        False           NaN       fresh                            CBR   \n",
            "3        False         2.5/5      rotten                    Japan Times   \n",
            "4        False           NaN       fresh                          DCist   \n",
            "\n",
            "                                          reviewText scoreSentiment  \\\n",
            "0  Timed to be just long enough for most youngste...       POSITIVE   \n",
            "1  It doesn't matter if a movie costs 300 million...       NEGATIVE   \n",
            "2  The choreography is so precise and lifelike at...       POSITIVE   \n",
            "3  The film's out-of-touch attempts at humor may ...       NEGATIVE   \n",
            "4  Its clumsy determination is endearing and some...       POSITIVE   \n",
            "\n",
            "                                           reviewUrl  \n",
            "0  http://www.deseretnews.com/article/700003233/B...  \n",
            "1  http://www.dreadcentral.com/index.php?name=Rev...  \n",
            "2  https://www.cbr.com/city-hunter-shinjuku-priva...  \n",
            "3  https://www.japantimes.co.jp/culture/2019/02/0...  \n",
            "4  http://dcist.com/2015/11/out_of_frame_dangerou...  \n"
          ]
        }
      ]
    },
    {
      "cell_type": "markdown",
      "source": [
        "3.Normalize Labels"
      ],
      "metadata": {
        "id": "DWTtKddTnZ5p"
      }
    },
    {
      "cell_type": "code",
      "source": [
        "# Rename columns if needed\n",
        "if 'reviewText' in df.columns: df.rename(columns={'reviewText':'review'}, inplace=True)\n",
        "if 'scoreSentiment' in df.columns: df.rename(columns={'scoreSentiment':'label'}, inplace=True)\n",
        "\n",
        "print(\"Columns:\", df.columns)\n",
        "print(\"Unique labels:\", df['label'].unique()[:10])\n",
        "\n",
        "# Map labels to numeric\n",
        "def map_label(x):\n",
        "    if str(x).lower() in ['1','pos','positive','p','true','t','y','yes']:\n",
        "        return 1\n",
        "    if str(x).lower() in ['0','neg','negative','n','false','f','no']:\n",
        "        return 0\n",
        "    try:\n",
        "        return int(x)\n",
        "    except:\n",
        "        return x\n",
        "\n",
        "df['label_num'] = df['label'].apply(map_label)\n",
        "df = df.dropna(subset=['review','label_num'])\n",
        "df['label_num'] = df['label_num'].astype(int)\n",
        "\n",
        "print(df['label_num'].value_counts())"
      ],
      "metadata": {
        "colab": {
          "base_uri": "https://localhost:8080/"
        },
        "id": "_y9fKMOTna_S",
        "outputId": "be514d02-8f8e-45b2-e1cd-293a61f9947b"
      },
      "execution_count": 12,
      "outputs": [
        {
          "output_type": "stream",
          "name": "stdout",
          "text": [
            "Columns: Index(['id', 'reviewId', 'creationDate', 'criticName', 'isTopCritic',\n",
            "       'originalScore', 'reviewState', 'publicatioName', 'review', 'label',\n",
            "       'reviewUrl'],\n",
            "      dtype='object')\n",
            "Unique labels: ['POSITIVE' 'NEGATIVE']\n",
            "label_num\n",
            "1    922510\n",
            "0    453228\n",
            "Name: count, dtype: int64\n"
          ]
        }
      ]
    },
    {
      "cell_type": "markdown",
      "source": [
        "4.Clean Text"
      ],
      "metadata": {
        "id": "oCbEAKhnpTsY"
      }
    },
    {
      "cell_type": "code",
      "source": [
        "def clean_text(text):\n",
        "    text = str(text).lower()\n",
        "    text = re.sub(r'<[^>]+>', ' ', text)\n",
        "    text = re.sub(r'http\\S+|www\\.\\S+', ' ', text)\n",
        "    text = re.sub(r'[^a-z0-9\\s]', ' ', text)\n",
        "    text = re.sub(r'\\s+', ' ', text).strip()\n",
        "\n",
        "    tokens = word_tokenize(text)\n",
        "    tokens = [t for t in tokens if t not in STOPWORDS and len(t) > 1]\n",
        "    tokens = [lemmatizer.lemmatize(t) for t in tokens]\n",
        "    return \" \".join(tokens)\n",
        "\n",
        "df['clean_review'] = df['review'].apply(clean_text)\n",
        "df[['review','clean_review']].head(5)\n"
      ],
      "metadata": {
        "colab": {
          "base_uri": "https://localhost:8080/",
          "height": 206
        },
        "id": "7bvFAREPqbs6",
        "outputId": "2803afc9-c6a2-4040-d7f2-ac3340bb7807"
      },
      "execution_count": 13,
      "outputs": [
        {
          "output_type": "execute_result",
          "data": {
            "text/plain": [
              "                                              review  \\\n",
              "0  Timed to be just long enough for most youngste...   \n",
              "1  It doesn't matter if a movie costs 300 million...   \n",
              "2  The choreography is so precise and lifelike at...   \n",
              "3  The film's out-of-touch attempts at humor may ...   \n",
              "4  Its clumsy determination is endearing and some...   \n",
              "\n",
              "                                        clean_review  \n",
              "0  timed long enough youngster brief attention sp...  \n",
              "1  matter movie cost 300 million 300 dollar good ...  \n",
              "2  choreography precise lifelike point one might ...  \n",
              "3  film touch attempt humor may find hunting reas...  \n",
              "4  clumsy determination endearing sometimes wildl...  "
            ],
            "text/html": [
              "\n",
              "  <div id=\"df-a2798423-b3d8-47c9-a562-545824a3c19b\" class=\"colab-df-container\">\n",
              "    <div>\n",
              "<style scoped>\n",
              "    .dataframe tbody tr th:only-of-type {\n",
              "        vertical-align: middle;\n",
              "    }\n",
              "\n",
              "    .dataframe tbody tr th {\n",
              "        vertical-align: top;\n",
              "    }\n",
              "\n",
              "    .dataframe thead th {\n",
              "        text-align: right;\n",
              "    }\n",
              "</style>\n",
              "<table border=\"1\" class=\"dataframe\">\n",
              "  <thead>\n",
              "    <tr style=\"text-align: right;\">\n",
              "      <th></th>\n",
              "      <th>review</th>\n",
              "      <th>clean_review</th>\n",
              "    </tr>\n",
              "  </thead>\n",
              "  <tbody>\n",
              "    <tr>\n",
              "      <th>0</th>\n",
              "      <td>Timed to be just long enough for most youngste...</td>\n",
              "      <td>timed long enough youngster brief attention sp...</td>\n",
              "    </tr>\n",
              "    <tr>\n",
              "      <th>1</th>\n",
              "      <td>It doesn't matter if a movie costs 300 million...</td>\n",
              "      <td>matter movie cost 300 million 300 dollar good ...</td>\n",
              "    </tr>\n",
              "    <tr>\n",
              "      <th>2</th>\n",
              "      <td>The choreography is so precise and lifelike at...</td>\n",
              "      <td>choreography precise lifelike point one might ...</td>\n",
              "    </tr>\n",
              "    <tr>\n",
              "      <th>3</th>\n",
              "      <td>The film's out-of-touch attempts at humor may ...</td>\n",
              "      <td>film touch attempt humor may find hunting reas...</td>\n",
              "    </tr>\n",
              "    <tr>\n",
              "      <th>4</th>\n",
              "      <td>Its clumsy determination is endearing and some...</td>\n",
              "      <td>clumsy determination endearing sometimes wildl...</td>\n",
              "    </tr>\n",
              "  </tbody>\n",
              "</table>\n",
              "</div>\n",
              "    <div class=\"colab-df-buttons\">\n",
              "\n",
              "  <div class=\"colab-df-container\">\n",
              "    <button class=\"colab-df-convert\" onclick=\"convertToInteractive('df-a2798423-b3d8-47c9-a562-545824a3c19b')\"\n",
              "            title=\"Convert this dataframe to an interactive table.\"\n",
              "            style=\"display:none;\">\n",
              "\n",
              "  <svg xmlns=\"http://www.w3.org/2000/svg\" height=\"24px\" viewBox=\"0 -960 960 960\">\n",
              "    <path d=\"M120-120v-720h720v720H120Zm60-500h600v-160H180v160Zm220 220h160v-160H400v160Zm0 220h160v-160H400v160ZM180-400h160v-160H180v160Zm440 0h160v-160H620v160ZM180-180h160v-160H180v160Zm440 0h160v-160H620v160Z\"/>\n",
              "  </svg>\n",
              "    </button>\n",
              "\n",
              "  <style>\n",
              "    .colab-df-container {\n",
              "      display:flex;\n",
              "      gap: 12px;\n",
              "    }\n",
              "\n",
              "    .colab-df-convert {\n",
              "      background-color: #E8F0FE;\n",
              "      border: none;\n",
              "      border-radius: 50%;\n",
              "      cursor: pointer;\n",
              "      display: none;\n",
              "      fill: #1967D2;\n",
              "      height: 32px;\n",
              "      padding: 0 0 0 0;\n",
              "      width: 32px;\n",
              "    }\n",
              "\n",
              "    .colab-df-convert:hover {\n",
              "      background-color: #E2EBFA;\n",
              "      box-shadow: 0px 1px 2px rgba(60, 64, 67, 0.3), 0px 1px 3px 1px rgba(60, 64, 67, 0.15);\n",
              "      fill: #174EA6;\n",
              "    }\n",
              "\n",
              "    .colab-df-buttons div {\n",
              "      margin-bottom: 4px;\n",
              "    }\n",
              "\n",
              "    [theme=dark] .colab-df-convert {\n",
              "      background-color: #3B4455;\n",
              "      fill: #D2E3FC;\n",
              "    }\n",
              "\n",
              "    [theme=dark] .colab-df-convert:hover {\n",
              "      background-color: #434B5C;\n",
              "      box-shadow: 0px 1px 3px 1px rgba(0, 0, 0, 0.15);\n",
              "      filter: drop-shadow(0px 1px 2px rgba(0, 0, 0, 0.3));\n",
              "      fill: #FFFFFF;\n",
              "    }\n",
              "  </style>\n",
              "\n",
              "    <script>\n",
              "      const buttonEl =\n",
              "        document.querySelector('#df-a2798423-b3d8-47c9-a562-545824a3c19b button.colab-df-convert');\n",
              "      buttonEl.style.display =\n",
              "        google.colab.kernel.accessAllowed ? 'block' : 'none';\n",
              "\n",
              "      async function convertToInteractive(key) {\n",
              "        const element = document.querySelector('#df-a2798423-b3d8-47c9-a562-545824a3c19b');\n",
              "        const dataTable =\n",
              "          await google.colab.kernel.invokeFunction('convertToInteractive',\n",
              "                                                    [key], {});\n",
              "        if (!dataTable) return;\n",
              "\n",
              "        const docLinkHtml = 'Like what you see? Visit the ' +\n",
              "          '<a target=\"_blank\" href=https://colab.research.google.com/notebooks/data_table.ipynb>data table notebook</a>'\n",
              "          + ' to learn more about interactive tables.';\n",
              "        element.innerHTML = '';\n",
              "        dataTable['output_type'] = 'display_data';\n",
              "        await google.colab.output.renderOutput(dataTable, element);\n",
              "        const docLink = document.createElement('div');\n",
              "        docLink.innerHTML = docLinkHtml;\n",
              "        element.appendChild(docLink);\n",
              "      }\n",
              "    </script>\n",
              "  </div>\n",
              "\n",
              "\n",
              "    <div id=\"df-0c7cd81d-fde2-48c9-9bb7-9e68403b02cb\">\n",
              "      <button class=\"colab-df-quickchart\" onclick=\"quickchart('df-0c7cd81d-fde2-48c9-9bb7-9e68403b02cb')\"\n",
              "                title=\"Suggest charts\"\n",
              "                style=\"display:none;\">\n",
              "\n",
              "<svg xmlns=\"http://www.w3.org/2000/svg\" height=\"24px\"viewBox=\"0 0 24 24\"\n",
              "     width=\"24px\">\n",
              "    <g>\n",
              "        <path d=\"M19 3H5c-1.1 0-2 .9-2 2v14c0 1.1.9 2 2 2h14c1.1 0 2-.9 2-2V5c0-1.1-.9-2-2-2zM9 17H7v-7h2v7zm4 0h-2V7h2v10zm4 0h-2v-4h2v4z\"/>\n",
              "    </g>\n",
              "</svg>\n",
              "      </button>\n",
              "\n",
              "<style>\n",
              "  .colab-df-quickchart {\n",
              "      --bg-color: #E8F0FE;\n",
              "      --fill-color: #1967D2;\n",
              "      --hover-bg-color: #E2EBFA;\n",
              "      --hover-fill-color: #174EA6;\n",
              "      --disabled-fill-color: #AAA;\n",
              "      --disabled-bg-color: #DDD;\n",
              "  }\n",
              "\n",
              "  [theme=dark] .colab-df-quickchart {\n",
              "      --bg-color: #3B4455;\n",
              "      --fill-color: #D2E3FC;\n",
              "      --hover-bg-color: #434B5C;\n",
              "      --hover-fill-color: #FFFFFF;\n",
              "      --disabled-bg-color: #3B4455;\n",
              "      --disabled-fill-color: #666;\n",
              "  }\n",
              "\n",
              "  .colab-df-quickchart {\n",
              "    background-color: var(--bg-color);\n",
              "    border: none;\n",
              "    border-radius: 50%;\n",
              "    cursor: pointer;\n",
              "    display: none;\n",
              "    fill: var(--fill-color);\n",
              "    height: 32px;\n",
              "    padding: 0;\n",
              "    width: 32px;\n",
              "  }\n",
              "\n",
              "  .colab-df-quickchart:hover {\n",
              "    background-color: var(--hover-bg-color);\n",
              "    box-shadow: 0 1px 2px rgba(60, 64, 67, 0.3), 0 1px 3px 1px rgba(60, 64, 67, 0.15);\n",
              "    fill: var(--button-hover-fill-color);\n",
              "  }\n",
              "\n",
              "  .colab-df-quickchart-complete:disabled,\n",
              "  .colab-df-quickchart-complete:disabled:hover {\n",
              "    background-color: var(--disabled-bg-color);\n",
              "    fill: var(--disabled-fill-color);\n",
              "    box-shadow: none;\n",
              "  }\n",
              "\n",
              "  .colab-df-spinner {\n",
              "    border: 2px solid var(--fill-color);\n",
              "    border-color: transparent;\n",
              "    border-bottom-color: var(--fill-color);\n",
              "    animation:\n",
              "      spin 1s steps(1) infinite;\n",
              "  }\n",
              "\n",
              "  @keyframes spin {\n",
              "    0% {\n",
              "      border-color: transparent;\n",
              "      border-bottom-color: var(--fill-color);\n",
              "      border-left-color: var(--fill-color);\n",
              "    }\n",
              "    20% {\n",
              "      border-color: transparent;\n",
              "      border-left-color: var(--fill-color);\n",
              "      border-top-color: var(--fill-color);\n",
              "    }\n",
              "    30% {\n",
              "      border-color: transparent;\n",
              "      border-left-color: var(--fill-color);\n",
              "      border-top-color: var(--fill-color);\n",
              "      border-right-color: var(--fill-color);\n",
              "    }\n",
              "    40% {\n",
              "      border-color: transparent;\n",
              "      border-right-color: var(--fill-color);\n",
              "      border-top-color: var(--fill-color);\n",
              "    }\n",
              "    60% {\n",
              "      border-color: transparent;\n",
              "      border-right-color: var(--fill-color);\n",
              "    }\n",
              "    80% {\n",
              "      border-color: transparent;\n",
              "      border-right-color: var(--fill-color);\n",
              "      border-bottom-color: var(--fill-color);\n",
              "    }\n",
              "    90% {\n",
              "      border-color: transparent;\n",
              "      border-bottom-color: var(--fill-color);\n",
              "    }\n",
              "  }\n",
              "</style>\n",
              "\n",
              "      <script>\n",
              "        async function quickchart(key) {\n",
              "          const quickchartButtonEl =\n",
              "            document.querySelector('#' + key + ' button');\n",
              "          quickchartButtonEl.disabled = true;  // To prevent multiple clicks.\n",
              "          quickchartButtonEl.classList.add('colab-df-spinner');\n",
              "          try {\n",
              "            const charts = await google.colab.kernel.invokeFunction(\n",
              "                'suggestCharts', [key], {});\n",
              "          } catch (error) {\n",
              "            console.error('Error during call to suggestCharts:', error);\n",
              "          }\n",
              "          quickchartButtonEl.classList.remove('colab-df-spinner');\n",
              "          quickchartButtonEl.classList.add('colab-df-quickchart-complete');\n",
              "        }\n",
              "        (() => {\n",
              "          let quickchartButtonEl =\n",
              "            document.querySelector('#df-0c7cd81d-fde2-48c9-9bb7-9e68403b02cb button');\n",
              "          quickchartButtonEl.style.display =\n",
              "            google.colab.kernel.accessAllowed ? 'block' : 'none';\n",
              "        })();\n",
              "      </script>\n",
              "    </div>\n",
              "\n",
              "    </div>\n",
              "  </div>\n"
            ],
            "application/vnd.google.colaboratory.intrinsic+json": {
              "type": "dataframe",
              "summary": "{\n  \"name\": \"df[['review','clean_review']]\",\n  \"rows\": 5,\n  \"fields\": [\n    {\n      \"column\": \"review\",\n      \"properties\": {\n        \"dtype\": \"string\",\n        \"num_unique_values\": 5,\n        \"samples\": [\n          \"It doesn't matter if a movie costs 300 million or only 300 dollars; good is good and bad is bad, and Bloodmask: The Possession of Nicole Lameroux is just plain bad.\",\n          \"Its clumsy determination is endearing and sometimes wildly entertaining\",\n          \"The choreography is so precise and lifelike at points one might wonder whether the movie was rotoscoped, but no live-action reference footage was used. The quality is due to the skill of the animators and Kodama's love for professional wrestling.\"\n        ],\n        \"semantic_type\": \"\",\n        \"description\": \"\"\n      }\n    },\n    {\n      \"column\": \"clean_review\",\n      \"properties\": {\n        \"dtype\": \"string\",\n        \"num_unique_values\": 5,\n        \"samples\": [\n          \"matter movie cost 300 million 300 dollar good good bad bad bloodmask possession nicole lameroux plain bad\",\n          \"clumsy determination endearing sometimes wildly entertaining\",\n          \"choreography precise lifelike point one might wonder whether movie rotoscoped live action reference footage used quality due skill animator kodama love professional wrestling\"\n        ],\n        \"semantic_type\": \"\",\n        \"description\": \"\"\n      }\n    }\n  ]\n}"
            }
          },
          "metadata": {},
          "execution_count": 13
        }
      ]
    },
    {
      "cell_type": "markdown",
      "source": [
        "5.Train/Test Split"
      ],
      "metadata": {
        "id": "sX09OFDyqcbp"
      }
    },
    {
      "cell_type": "code",
      "source": [
        "X = df['clean_review']\n",
        "y = df['label_num']\n",
        "\n",
        "X_train, X_test, y_train, y_test = train_test_split(\n",
        "    X, y, test_size=0.2, stratify=y, random_state=RANDOM_STATE\n",
        ")\n",
        "\n",
        "print(\"Train:\", X_train.shape, \"Test:\", X_test.shape)\n"
      ],
      "metadata": {
        "colab": {
          "base_uri": "https://localhost:8080/"
        },
        "id": "tW7TOUwsqgZV",
        "outputId": "7f379e9c-ecce-47de-d2bb-a38fad8023a1"
      },
      "execution_count": 14,
      "outputs": [
        {
          "output_type": "stream",
          "name": "stdout",
          "text": [
            "Train: (1100590,) Test: (275148,)\n"
          ]
        }
      ]
    },
    {
      "cell_type": "markdown",
      "source": [
        "6.TF-IDF Vectorizer"
      ],
      "metadata": {
        "id": "Pap9xkTsqjT9"
      }
    },
    {
      "cell_type": "code",
      "source": [
        "vectorizer = TfidfVectorizer(\n",
        "    max_features=8000,\n",
        "    min_df=3,\n",
        "    max_df=0.9,\n",
        "    ngram_range=(1,2)\n",
        ")\n",
        "\n",
        "X_train_vec = vectorizer.fit_transform(X_train)\n",
        "X_test_vec = vectorizer.transform(X_test)\n",
        "\n",
        "print(\"Vectorized shapes:\", X_train_vec.shape, X_test_vec.shape)\n"
      ],
      "metadata": {
        "colab": {
          "base_uri": "https://localhost:8080/"
        },
        "id": "XyZs4c3sqmkj",
        "outputId": "7f6ac6d1-340d-498a-857e-7c7c4b799502"
      },
      "execution_count": 15,
      "outputs": [
        {
          "output_type": "stream",
          "name": "stdout",
          "text": [
            "Vectorized shapes: (1100590, 8000) (275148, 8000)\n"
          ]
        }
      ]
    },
    {
      "cell_type": "markdown",
      "source": [
        "7.Train Models"
      ],
      "metadata": {
        "id": "6q20SOHAqovw"
      }
    },
    {
      "cell_type": "code",
      "source": [
        "models = {\n",
        "    'LogisticRegression': LogisticRegression(max_iter=1000, random_state=RANDOM_STATE),\n",
        "    'MultinomialNB': MultinomialNB(),\n",
        "    'LinearSVC': LinearSVC(max_iter=5000, random_state=RANDOM_STATE)\n",
        "}\n",
        "\n",
        "results = {}\n",
        "for name, model in models.items():\n",
        "    print(f\"\\nTraining {name} ...\")\n",
        "    model.fit(X_train_vec, y_train)\n",
        "    preds = model.predict(X_test_vec)\n",
        "    acc = accuracy_score(y_test, preds)\n",
        "    print(f\"{name} Accuracy: {acc:.4f}\")\n",
        "    print(classification_report(y_test, preds, digits=4))\n",
        "    results[name] = {'model': model, 'accuracy': acc}\n",
        "\n",
        "best_name = max(results, key=lambda k: results[k]['accuracy'])\n",
        "print(\"\\nBest model:\", best_name, \"Accuracy:\", results[best_name]['accuracy'])\n",
        "best_model = results[best_name]['model']\n"
      ],
      "metadata": {
        "colab": {
          "base_uri": "https://localhost:8080/"
        },
        "id": "GKPX4xQGqrc0",
        "outputId": "010ceaa5-b384-4c86-b9fa-62d8bd37d792"
      },
      "execution_count": 16,
      "outputs": [
        {
          "output_type": "stream",
          "name": "stdout",
          "text": [
            "\n",
            "Training LogisticRegression ...\n",
            "LogisticRegression Accuracy: 0.8104\n",
            "              precision    recall  f1-score   support\n",
            "\n",
            "           0     0.7577    0.6242    0.6845     90646\n",
            "           1     0.8301    0.9019    0.8645    184502\n",
            "\n",
            "    accuracy                         0.8104    275148\n",
            "   macro avg     0.7939    0.7631    0.7745    275148\n",
            "weighted avg     0.8062    0.8104    0.8052    275148\n",
            "\n",
            "\n",
            "Training MultinomialNB ...\n",
            "MultinomialNB Accuracy: 0.7812\n",
            "              precision    recall  f1-score   support\n",
            "\n",
            "           0     0.8025    0.4454    0.5729     90646\n",
            "           1     0.7764    0.9461    0.8529    184502\n",
            "\n",
            "    accuracy                         0.7812    275148\n",
            "   macro avg     0.7895    0.6958    0.7129    275148\n",
            "weighted avg     0.7850    0.7812    0.7607    275148\n",
            "\n",
            "\n",
            "Training LinearSVC ...\n",
            "LinearSVC Accuracy: 0.8104\n",
            "              precision    recall  f1-score   support\n",
            "\n",
            "           0     0.7576    0.6241    0.6844     90646\n",
            "           1     0.8300    0.9019    0.8645    184502\n",
            "\n",
            "    accuracy                         0.8104    275148\n",
            "   macro avg     0.7938    0.7630    0.7745    275148\n",
            "weighted avg     0.8062    0.8104    0.8052    275148\n",
            "\n",
            "\n",
            "Best model: LogisticRegression Accuracy: 0.8104256618256357\n"
          ]
        }
      ]
    },
    {
      "cell_type": "markdown",
      "source": [
        "8.Confusion Matrix"
      ],
      "metadata": {
        "id": "cvDENQl_quMx"
      }
    },
    {
      "cell_type": "code",
      "source": [
        "cm = confusion_matrix(y_test, best_model.predict(X_test_vec))\n",
        "print(\"Confusion Matrix:\\n\", cm)\n",
        "\n",
        "plt.figure(figsize=(5,4))\n",
        "plt.imshow(cm, interpolation='nearest')\n",
        "plt.title('Confusion matrix')\n",
        "plt.colorbar()\n",
        "plt.xlabel('Predicted')\n",
        "plt.ylabel('Actual')\n",
        "plt.xticks([0,1])\n",
        "plt.yticks([0,1])\n",
        "for (i, j), val in np.ndenumerate(cm):\n",
        "    plt.text(j, i, val, ha='center', va='center',\n",
        "             color='white' if val>cm.max()/2 else 'black')\n",
        "plt.show()"
      ],
      "metadata": {
        "colab": {
          "base_uri": "https://localhost:8080/",
          "height": 462
        },
        "id": "jHo4ygH-qy6R",
        "outputId": "d6a09658-2b0c-44e0-889f-726ddb8fa152"
      },
      "execution_count": 17,
      "outputs": [
        {
          "output_type": "stream",
          "name": "stdout",
          "text": [
            "Confusion Matrix:\n",
            " [[ 56579  34067]\n",
            " [ 18094 166408]]\n"
          ]
        },
        {
          "output_type": "display_data",
          "data": {
            "text/plain": [
              "<Figure size 500x400 with 2 Axes>"
            ],
            "image/png": "[encoded data removed]"
          },
          "metadata": {}
        }
      ]
    },
    {
      "cell_type": "markdown",
      "source": [
        "9.Save Model + Vectorizer"
      ],
      "metadata": {
        "id": "Er9HDA-aq3FZ"
      }
    },
    {
      "cell_type": "code",
      "source": [
        "joblib.dump(best_model, '/content/drive/MyDrive/data/best_sentiment_model.joblib')\n",
        "joblib.dump(vectorizer, '/content/drive/MyDrive/data/tfidf_vectorizer.joblib')\n",
        "print(\"Saved model + vectorizer to Drive ✅\")"
      ],
      "metadata": {
        "colab": {
          "base_uri": "https://localhost:8080/"
        },
        "id": "x4wDUSD4q6sa",
        "outputId": "929c6ae1-34e8-4002-a67f-8fc243645ca5"
      },
      "execution_count": 18,
      "outputs": [
        {
          "output_type": "stream",
          "name": "stdout",
          "text": [
            "Saved model + vectorizer to Drive ✅\n"
          ]
        }
      ]
    },
    {
      "cell_type": "markdown",
      "source": [
        "10.Predict New Review"
      ],
      "metadata": {
        "id": "yvkvor7aq_X2"
      }
    },
    {
      "cell_type": "code",
      "source": [
        "def predict_sentiment(text, model=best_model, vect=vectorizer):\n",
        "    cleaned = clean_text(text)\n",
        "    vec = vect.transform([cleaned])\n",
        "    pred = model.predict(vec)[0]\n",
        "    label = 'positive' if pred==1 else 'negative'\n",
        "    return label\n",
        "\n",
        "print(predict_sentiment(\"This movie was absolutely fantastic!\"))\n",
        "print(predict_sentiment(\"A boring and terrible experience.\"))"
      ],
      "metadata": {
        "colab": {
          "base_uri": "https://localhost:8080/"
        },
        "id": "-gxrtTf_rBMf",
        "outputId": "1f0f40b3-107a-4c52-d631-ec7217d66c15"
      },
      "execution_count": 19,
      "outputs": [
        {
          "output_type": "stream",
          "name": "stdout",
          "text": [
            "positive\n",
            "negative\n"
          ]
        }
      ]
    }
  ]
}